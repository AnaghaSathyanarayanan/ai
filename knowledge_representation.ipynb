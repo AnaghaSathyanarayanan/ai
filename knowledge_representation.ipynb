{
 "cells": [
  {
   "cell_type": "code",
   "execution_count": 1,
   "id": "7c688724",
   "metadata": {},
   "outputs": [
    {
     "name": "stdout",
     "output_type": "stream",
     "text": [
      "--- Forward Chaining ---\n",
      "Inferred: if_person_is_minor from john_is_15\n",
      "Inferred: person_steals from john_stole\n",
      "Inferred: person_not_punishable from if_person_is_minor\n",
      "Inferred: person_requires_guardian_care from if_person_is_minor\n",
      "Inferred: if_person_commits_crime from person_steals\n",
      "Inferred: person_is_punishable from if_person_commits_crime\n",
      "Updated Facts: {'john_is_15': True, 'john_stole': True, 'if_person_is_minor': True, 'person_steals': True, 'person_not_punishable': True, 'person_requires_guardian_care': True, 'if_person_commits_crime': True, 'person_is_punishable': True}\n",
      "\n",
      "--- Backward Chaining ---\n",
      "Inferred: person_steals because john_stole is true\n",
      "Inferred: if_person_commits_crime because person_steals is true\n",
      "Inferred: person_is_punishable because if_person_commits_crime is true\n",
      "Goal 'person_is_punishable' is true.\n"
     ]
    }
   ],
   "source": [
    "\n",
    "from collections import defaultdict\n",
    "\n",
    "# Knowledge Base: Representing legal knowledge using propositional and predicate logic\n",
    "knowledge_base = [\n",
    "    (\"if_person_commits_crime\", \"person_is_punishable\"),\n",
    "    (\"if_person_is_minor\", \"person_not_punishable\"),\n",
    "    (\"if_person_is_minor\", \"person_requires_guardian_care\"),\n",
    "    (\"person_steals\", \"if_person_commits_crime\"),\n",
    "    (\"john_is_15\", \"if_person_is_minor\"),\n",
    "    (\"john_stole\", \"person_steals\"),\n",
    "]\n",
    "\n",
    "# Facts: Initial facts about the world\n",
    "facts = {\n",
    "    \"john_is_15\": True,\n",
    "    \"john_stole\": True\n",
    "}\n",
    "\n",
    "# Inference Engine\n",
    "def forward_chaining(kb, facts):\n",
    "    \"\"\"Performs forward chaining to infer new facts.\"\"\"\n",
    "    new_inferences = True\n",
    "    while new_inferences:\n",
    "        new_inferences = False\n",
    "        for antecedent, consequent in kb:\n",
    "            if antecedent in facts and facts[antecedent] and consequent not in facts:\n",
    "                facts[consequent] = True\n",
    "                new_inferences = True\n",
    "                print(f\"Inferred: {consequent} from {antecedent}\")\n",
    "    return facts\n",
    "\n",
    "# Forward Chaining\n",
    "print(\"--- Forward Chaining ---\")\n",
    "updated_facts = forward_chaining(knowledge_base, facts.copy())\n",
    "print(\"Updated Facts:\", updated_facts)\n",
    "\n",
    "def backward_chaining(goal, kb, facts, seen=None):\n",
    "    \"\"\"Performs backward chaining to check if the goal can be inferred.\"\"\"\n",
    "    if seen is None:\n",
    "        seen = set()\n",
    "    if goal in facts:\n",
    "        return facts[goal]\n",
    "    for antecedent, consequent in kb:\n",
    "        if consequent == goal and antecedent not in seen:\n",
    "            seen.add(antecedent)\n",
    "            if backward_chaining(antecedent, kb, facts, seen):\n",
    "                facts[goal] = True\n",
    "                print(f\"Inferred: {goal} because {antecedent} is true\")\n",
    "                return True\n",
    "    return False\n",
    "\n",
    "# Backward Chaining\n",
    "print(\"\\n--- Backward Chaining ---\")\n",
    "goal = \"person_is_punishable\"\n",
    "result = backward_chaining(goal, knowledge_base, facts.copy())\n",
    "if result:\n",
    "    print(f\"Goal '{goal}' is true.\")\n",
    "else:\n",
    "    print(f\"Goal '{goal}' is false.\")\n"
   ]
  },
  {
   "cell_type": "code",
   "execution_count": null,
   "id": "aa951530-18c4-452d-84e3-daa6f7195669",
   "metadata": {},
   "outputs": [],
   "source": []
  }
 ],
 "metadata": {
  "kernelspec": {
   "display_name": "Python 3 (ipykernel)",
   "language": "python",
   "name": "python3"
  },
  "language_info": {
   "codemirror_mode": {
    "name": "ipython",
    "version": 3
   },
   "file_extension": ".py",
   "mimetype": "text/x-python",
   "name": "python",
   "nbconvert_exporter": "python",
   "pygments_lexer": "ipython3",
   "version": "3.11.7"
  }
 },
 "nbformat": 4,
 "nbformat_minor": 5
}
